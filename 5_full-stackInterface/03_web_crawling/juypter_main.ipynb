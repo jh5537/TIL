{
 "cells": [
  {
   "cell_type": "markdown",
   "metadata": {},
   "source": [
    "<h3>Google Image Scrapper for Juypter Notebook</h3>"
   ]
  },
  {
   "cell_type": "code",
   "execution_count": null,
   "metadata": {},
   "outputs": [],
   "source": [
    "#!pip install selenium==4.0.0a6"
   ]
  },
  {
   "cell_type": "code",
   "execution_count": 2,
   "metadata": {},
   "outputs": [],
   "source": [
    "from GoogleImageScrapper import GoogleImageScraper\n",
    "import os\n",
    "import time"
   ]
  },
  {
   "cell_type": "code",
   "execution_count": 3,
   "metadata": {},
   "outputs": [],
   "source": [
    "sleep_between_interactions = 1\n",
    "webdriver_path = os.getcwd()+\"/chromedriver\"\n",
    "image_path = os.getcwd()+\"/images\""
   ]
  },
  {
   "cell_type": "code",
   "execution_count": 4,
   "metadata": {},
   "outputs": [
    {
     "name": "stdin",
     "output_type": "stream",
     "text": [
      "검색하고 싶은 키워드 :  owl\n",
      "원하는 이미지 수집 개수 :  2\n"
     ]
    },
    {
     "name": "stdout",
     "output_type": "stream",
     "text": [
      "GoogleImageScraper Notification: Scraping for image link... Please wait.\n"
     ]
    },
    {
     "name": "stderr",
     "output_type": "stream",
     "text": [
      "/opt/anaconda3/lib/python3.8/site-packages/selenium/webdriver/remote/webdriver.py:430: UserWarning: find_element_by_* commands are deprecated. Please use find_element() instead\n",
      "  warnings.warn(\"find_element_by_* commands are deprecated. Please use find_element() instead\")\n",
      "/opt/anaconda3/lib/python3.8/site-packages/selenium/webdriver/remote/webdriver.py:649: UserWarning: find_elements_by_* commands are deprecated. Please use find_elements() instead\n",
      "  warnings.warn(\"find_elements_by_* commands are deprecated. Please use find_elements() instead\")\n"
     ]
    },
    {
     "name": "stdout",
     "output_type": "stream",
     "text": [
      "0. https://res.klook.com/images/fl_lossy.progressive,q_65/c_fill,w_1200,h_630,f_auto/w_80,x_15,y_15,g_south_west,l_klook_water/activities/v0sbxgpwv8lvnd2pdujp/%EB%8F%84%EC%BF%84%20%EC%98%AC%EB%B9%BC%EB%AF%B8%20%EC%B9%B4%ED%8E%98%20%EC%95%84%ED%82%A4%EB%B0%94%20%ED%9B%84%EC%BF%A0%EB%A1%9C%20%EC%9E%85%EC%9E%A5%EA%B6%8C.jpg\n",
      "GoogleImageScraper Notification: Saving Image... Please wait.\n",
      "0 .Image saved at: /Users/kimjihun/TIL/5_full-stackInterface/03_web_crawling/images/owl0.jpg\n",
      "GoogleImageScraper Notification: Download Completed.\n"
     ]
    }
   ],
   "source": [
    "#add new search key into array [\"cat\",\"t-shirt\",\"apple\",\"orange\",\"pear\",\"fish\"]\n",
    "#search_keys= [\"woodpecker\",\"owl\"]\n",
    "search_keys = [input(\"검색하고 싶은 키워드 : \")]\n",
    "number_of_images = int(input(\"원하는 이미지 수집 개수 : \"))\n",
    "headless = False\n",
    "#min_resolution = (width,height)\n",
    "min_resolution=(0,0)\n",
    "#max_resolution = (width,height)\n",
    "max_resolution=(4000,4000)\n",
    "for search_key in search_keys:\n",
    "    image_scrapper = GoogleImageScraper(webdriver_path,image_path,search_key,number_of_images,headless,min_resolution,max_resolution)\n",
    "    image_urls = image_scrapper.find_image_urls()\n",
    "    image_scrapper.save_images(image_urls)\n",
    "    time.sleep(sleep_between_interactions)"
   ]
  },
  {
   "cell_type": "code",
   "execution_count": null,
   "metadata": {},
   "outputs": [],
   "source": []
  }
 ],
 "metadata": {
  "kernelspec": {
   "display_name": "Python 3",
   "language": "python",
   "name": "python3"
  },
  "language_info": {
   "codemirror_mode": {
    "name": "ipython",
    "version": 3
   },
   "file_extension": ".py",
   "mimetype": "text/x-python",
   "name": "python",
   "nbconvert_exporter": "python",
   "pygments_lexer": "ipython3",
   "version": "3.8.8"
  }
 },
 "nbformat": 4,
 "nbformat_minor": 4
}
