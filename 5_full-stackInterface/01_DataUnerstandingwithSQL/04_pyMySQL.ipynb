{
 "cells": [
  {
   "cell_type": "code",
   "execution_count": null,
   "id": "9c6042e4-7def-40ea-841e-dcb912eef4ce",
   "metadata": {},
   "outputs": [],
   "source": [
    "#!pip install PyMySQL==1.0.0"
   ]
  },
  {
   "cell_type": "code",
   "execution_count": 4,
   "id": "cb898416-cdba-4519-b1b5-5d928035e473",
   "metadata": {},
   "outputs": [],
   "source": [
    "import pymysql.cursors\n",
    "# Connect to the database"
   ]
  },
  {
   "cell_type": "code",
   "execution_count": 2,
   "id": "182a64bc-9ab7-4f3d-aefe-30e3aa37faa8",
   "metadata": {},
   "outputs": [
    {
     "name": "stdout",
     "output_type": "stream",
     "text": [
      "{'total_bill': 39.42}\n"
     ]
    }
   ],
   "source": [
    "connection = pymysql.connect(host='127.0.0.1',\n",
    "        user='root',\n",
    "        password='0000',\n",
    "        db='TIP_Schema',\n",
    "        charset='utf8',\n",
    "        cursorclass=pymysql.cursors.DictCursor)\n",
    "try:\n",
    "    with connection.cursor() as cursor:\n",
    "        # Read a single record\n",
    "        #sql = \"SELECT `id`, `password` FROM `users` WHERE `email`=%s\"\n",
    "        sql = \"select total_bill from TIP_Schema.tips where tip >= 7;\"\n",
    "        cursor.execute(sql)\n",
    "        result = cursor.fetchone()\n",
    "        print(result)\n",
    "finally:\n",
    "    connection.close()"
   ]
  },
  {
   "cell_type": "markdown",
   "id": "094caddc-2abe-4fa6-9f85-129ccb4934e6",
   "metadata": {},
   "source": [
    "sql을 실행시켜 해당 커서의 값을 읽어서 출력."
   ]
  },
  {
   "cell_type": "code",
   "execution_count": 5,
   "id": "28fd70ce-c7e4-4d9e-b517-608e9040bb3c",
   "metadata": {},
   "outputs": [],
   "source": [
    "import pandas as pd"
   ]
  },
  {
   "cell_type": "code",
   "execution_count": 6,
   "id": "fc1ae484-7e36-4f86-a093-37a2611fbdc7",
   "metadata": {},
   "outputs": [
    {
     "name": "stdout",
     "output_type": "stream",
     "text": [
      "   total_bill\n",
      "0       39.42\n",
      "1       50.81\n",
      "2       48.33\n"
     ]
    }
   ],
   "source": [
    "# MySQL DB에서 데이터 받아와서 DataFrame에 저장\n",
    "\n",
    "conn = pymysql.connect(host='127.0.0.1', user='root', \n",
    "                       password='0000', db='classicmodels', charset='utf8',\n",
    "                       autocommit=True, cursorclass=pymysql.cursors.DictCursor)\n",
    "try:\n",
    "    with conn.cursor() as curs:\n",
    "        sql = \"select total_bill from TIP_Schema.tips where tip >= 7;\"\n",
    "        curs.execute(sql)\n",
    "        rs = curs.fetchall()\n",
    "\n",
    "      # DB에서 받아온 값을 DataFrame에 넣음\n",
    "\n",
    "        df = pd.DataFrame(rs)\n",
    "        print(df)\n",
    "      # df.to_csv('query.csv')를 통해 받아온 데이터프레임을 csv로 저장할 수 있음.\n",
    "\n",
    "finally: \n",
    "    conn.close()"
   ]
  },
  {
   "cell_type": "code",
   "execution_count": 6,
   "id": "961557b4-0b72-4ed8-9015-1940b509a019",
   "metadata": {},
   "outputs": [
    {
     "data": {
      "text/html": [
       "<div>\n",
       "<style scoped>\n",
       "    .dataframe tbody tr th:only-of-type {\n",
       "        vertical-align: middle;\n",
       "    }\n",
       "\n",
       "    .dataframe tbody tr th {\n",
       "        vertical-align: top;\n",
       "    }\n",
       "\n",
       "    .dataframe thead th {\n",
       "        text-align: right;\n",
       "    }\n",
       "</style>\n",
       "<table border=\"1\" class=\"dataframe\">\n",
       "  <thead>\n",
       "    <tr style=\"text-align: right;\">\n",
       "      <th></th>\n",
       "      <th>total_bill</th>\n",
       "    </tr>\n",
       "  </thead>\n",
       "  <tbody>\n",
       "    <tr>\n",
       "      <th>0</th>\n",
       "      <td>39.42</td>\n",
       "    </tr>\n",
       "    <tr>\n",
       "      <th>1</th>\n",
       "      <td>50.81</td>\n",
       "    </tr>\n",
       "    <tr>\n",
       "      <th>2</th>\n",
       "      <td>48.33</td>\n",
       "    </tr>\n",
       "  </tbody>\n",
       "</table>\n",
       "</div>"
      ],
      "text/plain": [
       "   total_bill\n",
       "0       39.42\n",
       "1       50.81\n",
       "2       48.33"
      ]
     },
     "execution_count": 6,
     "metadata": {},
     "output_type": "execute_result"
    }
   ],
   "source": [
    "df"
   ]
  },
  {
   "cell_type": "code",
   "execution_count": 7,
   "id": "e17e34bb-1358-4b65-9628-17cb1da4a224",
   "metadata": {},
   "outputs": [
    {
     "data": {
      "text/plain": [
       "array([[<AxesSubplot:title={'center':'total_bill'}>]], dtype=object)"
      ]
     },
     "execution_count": 7,
     "metadata": {},
     "output_type": "execute_result"
    },
    {
     "data": {
      "image/png": "[encoded data removed]",
      "text/plain": [
       "<Figure size 432x288 with 1 Axes>"
      ]
     },
     "metadata": {
      "needs_background": "light"
     },
     "output_type": "display_data"
    }
   ],
   "source": [
    "df.hist()"
   ]
  },
  {
   "cell_type": "markdown",
   "id": "2c4b000d-fea1-485f-977e-ffa477e15271",
   "metadata": {},
   "source": [
    "---"
   ]
  },
  {
   "cell_type": "code",
   "execution_count": 11,
   "id": "1e903046-2933-40ef-af7b-02b713aa431a",
   "metadata": {},
   "outputs": [
    {
     "name": "stdout",
     "output_type": "stream",
     "text": [
      "                     customername checknumber\n",
      "0               Atelier graphique    HQ336336\n",
      "1               Atelier graphique    OM314933\n",
      "2              Signal Gift Stores    BO864823\n",
      "3              Signal Gift Stores    ND748579\n",
      "4      Australian Collectors, Co.    MA765515\n",
      "..                            ...         ...\n",
      "127  Australian Collectables, Ltd    AB661578\n",
      "128    Iberia Gift Imports, Corp.    GK294076\n",
      "129  Motor Mint Distributors Inc.     HS86661\n",
      "130             Kelly's Gift Shop    EU531600\n",
      "131             Kelly's Gift Shop     MN89921\n",
      "\n",
      "[132 rows x 2 columns]\n"
     ]
    }
   ],
   "source": [
    "import pymysql.cursors\n",
    "import pandas as pd\n",
    "\n",
    "conn = pymysql.connect(host='127.0.0.1', user='root', \n",
    "                       password='0000', db='classicmodels', charset='utf8',\n",
    "                       autocommit=True, cursorclass=pymysql.cursors.DictCursor)\n",
    "try:\n",
    "    with conn.cursor() as curs:\n",
    "        sql = \"\"\"select customers.customername, payments.checknumber from classicmodels.customers\n",
    "left join payments on customers.customernumber=payments.customernumber where payments.paymentdate >= '2004-06-06';\"\"\"\n",
    "        curs.execute(sql)\n",
    "        rs = curs.fetchall()\n",
    "\n",
    "      # DB에서 받아온 값을 DataFrame에 넣음\n",
    "\n",
    "        df = pd.DataFrame(rs)\n",
    "        print(df)\n",
    "        df.to_csv('query_result.csv')\n",
    "\n",
    "finally: \n",
    "    conn.close()"
   ]
  },
  {
   "cell_type": "code",
   "execution_count": 12,
   "id": "5750f394-b470-40c9-a9ab-4a908add02c2",
   "metadata": {},
   "outputs": [
    {
     "data": {
      "text/html": [
       "<div>\n",
       "<style scoped>\n",
       "    .dataframe tbody tr th:only-of-type {\n",
       "        vertical-align: middle;\n",
       "    }\n",
       "\n",
       "    .dataframe tbody tr th {\n",
       "        vertical-align: top;\n",
       "    }\n",
       "\n",
       "    .dataframe thead th {\n",
       "        text-align: right;\n",
       "    }\n",
       "</style>\n",
       "<table border=\"1\" class=\"dataframe\">\n",
       "  <thead>\n",
       "    <tr style=\"text-align: right;\">\n",
       "      <th></th>\n",
       "      <th>customername</th>\n",
       "      <th>checknumber</th>\n",
       "    </tr>\n",
       "  </thead>\n",
       "  <tbody>\n",
       "    <tr>\n",
       "      <th>0</th>\n",
       "      <td>Atelier graphique</td>\n",
       "      <td>HQ336336</td>\n",
       "    </tr>\n",
       "    <tr>\n",
       "      <th>1</th>\n",
       "      <td>Atelier graphique</td>\n",
       "      <td>OM314933</td>\n",
       "    </tr>\n",
       "    <tr>\n",
       "      <th>2</th>\n",
       "      <td>Signal Gift Stores</td>\n",
       "      <td>BO864823</td>\n",
       "    </tr>\n",
       "    <tr>\n",
       "      <th>3</th>\n",
       "      <td>Signal Gift Stores</td>\n",
       "      <td>ND748579</td>\n",
       "    </tr>\n",
       "    <tr>\n",
       "      <th>4</th>\n",
       "      <td>Australian Collectors, Co.</td>\n",
       "      <td>MA765515</td>\n",
       "    </tr>\n",
       "    <tr>\n",
       "      <th>...</th>\n",
       "      <td>...</td>\n",
       "      <td>...</td>\n",
       "    </tr>\n",
       "    <tr>\n",
       "      <th>127</th>\n",
       "      <td>Australian Collectables, Ltd</td>\n",
       "      <td>AB661578</td>\n",
       "    </tr>\n",
       "    <tr>\n",
       "      <th>128</th>\n",
       "      <td>Iberia Gift Imports, Corp.</td>\n",
       "      <td>GK294076</td>\n",
       "    </tr>\n",
       "    <tr>\n",
       "      <th>129</th>\n",
       "      <td>Motor Mint Distributors Inc.</td>\n",
       "      <td>HS86661</td>\n",
       "    </tr>\n",
       "    <tr>\n",
       "      <th>130</th>\n",
       "      <td>Kelly's Gift Shop</td>\n",
       "      <td>EU531600</td>\n",
       "    </tr>\n",
       "    <tr>\n",
       "      <th>131</th>\n",
       "      <td>Kelly's Gift Shop</td>\n",
       "      <td>MN89921</td>\n",
       "    </tr>\n",
       "  </tbody>\n",
       "</table>\n",
       "<p>132 rows × 2 columns</p>\n",
       "</div>"
      ],
      "text/plain": [
       "                     customername checknumber\n",
       "0               Atelier graphique    HQ336336\n",
       "1               Atelier graphique    OM314933\n",
       "2              Signal Gift Stores    BO864823\n",
       "3              Signal Gift Stores    ND748579\n",
       "4      Australian Collectors, Co.    MA765515\n",
       "..                            ...         ...\n",
       "127  Australian Collectables, Ltd    AB661578\n",
       "128    Iberia Gift Imports, Corp.    GK294076\n",
       "129  Motor Mint Distributors Inc.     HS86661\n",
       "130             Kelly's Gift Shop    EU531600\n",
       "131             Kelly's Gift Shop     MN89921\n",
       "\n",
       "[132 rows x 2 columns]"
      ]
     },
     "execution_count": 12,
     "metadata": {},
     "output_type": "execute_result"
    }
   ],
   "source": [
    "df"
   ]
  },
  {
   "cell_type": "code",
   "execution_count": null,
   "id": "07da2369-bedf-4d8c-9552-6fb988fe9796",
   "metadata": {},
   "outputs": [],
   "source": []
  }
 ],
 "metadata": {
  "kernelspec": {
   "display_name": "Python Multi",
   "language": "python",
   "name": "multi"
  },
  "language_info": {
   "codemirror_mode": {
    "name": "ipython",
    "version": 3
   },
   "file_extension": ".py",
   "mimetype": "text/x-python",
   "name": "python",
   "nbconvert_exporter": "python",
   "pygments_lexer": "ipython3",
   "version": "3.9.4"
  }
 },
 "nbformat": 4,
 "nbformat_minor": 5
}
