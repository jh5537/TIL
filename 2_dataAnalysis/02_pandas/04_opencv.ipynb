{
 "cells": [
  {
   "cell_type": "code",
   "execution_count": 1,
   "id": "4063d851-9f7f-4109-aa0d-2b1e1519af96",
   "metadata": {},
   "outputs": [],
   "source": [
    "import sys\n",
    "import cv2\n",
    "\n",
    "src = cv2.imread('animals.png')    \n"
   ]
  },
  {
   "cell_type": "code",
   "execution_count": null,
   "id": "9a494221-f026-417b-b808-46df6f00a0bd",
   "metadata": {},
   "outputs": [],
   "source": [
    "cv2.imshow('Image', src)\n",
    "#cv2.imshow('Flipped', flipped)\n",
    "#cv2.imshow('Cropped Image', cropped)\n",
    "cv2.waitKey(0) # 0 forever \n",
    "cv2.destroyAllWindows()"
   ]
  },
  {
   "cell_type": "code",
   "execution_count": 2,
   "id": "6b8cd5d6-9bc1-4e49-9484-ef16d0ea5272",
   "metadata": {},
   "outputs": [],
   "source": [
    "src2 = src[276:376, 452:567]"
   ]
  },
  {
   "cell_type": "code",
   "execution_count": null,
   "id": "b9a32cfa-75af-4f71-8605-d9b72911b58b",
   "metadata": {},
   "outputs": [],
   "source": [
    "cv2.imshow('Cat', src2)\n",
    "cv2.waitKey(0) # 0 forever \n",
    "cv2.destroyAllWindows()"
   ]
  },
  {
   "cell_type": "code",
   "execution_count": null,
   "id": "0413aebf-829c-4811-80c3-a2a31477b4e9",
   "metadata": {},
   "outputs": [],
   "source": [
    "cv2.imwrite('./Cat.png', src2)"
   ]
  },
  {
   "cell_type": "code",
   "execution_count": null,
   "id": "60a4da52-4c1a-443c-863f-c75a5022f0ab",
   "metadata": {},
   "outputs": [],
   "source": []
  },
  {
   "cell_type": "code",
   "execution_count": null,
   "id": "ce407e10-59bb-4be7-a8be-311cfda78eb3",
   "metadata": {},
   "outputs": [],
   "source": []
  }
 ],
 "metadata": {
  "kernelspec": {
   "display_name": "Python Multi",
   "language": "python",
   "name": "multi"
  },
  "language_info": {
   "codemirror_mode": {
    "name": "ipython",
    "version": 3
   },
   "file_extension": ".py",
   "mimetype": "text/x-python",
   "name": "python",
   "nbconvert_exporter": "python",
   "pygments_lexer": "ipython3",
   "version": "3.9.4"
  }
 },
 "nbformat": 4,
 "nbformat_minor": 5
}
