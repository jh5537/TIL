{
 "cells": [
  {
   "cell_type": "markdown",
   "id": "olive-decrease",
   "metadata": {},
   "source": [
    "### Regression Feature Selection:\n",
    "(Numerical Input, Numerical Output)"
   ]
  },
  {
   "cell_type": "markdown",
   "id": "saved-values",
   "metadata": {},
   "source": [
    "Feature selection is performed using Pearson’s Correlation Coefficient via the f_regression() function."
   ]
  },
  {
   "cell_type": "code",
   "execution_count": 1,
   "id": "a07e0007-2aee-410e-8b5d-3d11164d9769",
   "metadata": {},
   "outputs": [],
   "source": [
    "# pearson's correlation feature selection for numeric input and numeric output\n",
    "from sklearn.datasets import make_regression\n",
    "from sklearn.feature_selection import SelectKBest\n",
    "from sklearn.feature_selection import f_regression"
   ]
  },
  {
   "cell_type": "code",
   "execution_count": 2,
   "id": "7ff5eac7-68a6-475f-890f-65736a30da31",
   "metadata": {},
   "outputs": [],
   "source": [
    "# generate dataset\n",
    "X, y = make_regression(n_samples=100, n_features=100, n_informative=10)"
   ]
  },
  {
   "cell_type": "code",
   "execution_count": 3,
   "id": "4b5f428b-6483-4738-a5ca-cbb3fc9597c5",
   "metadata": {},
   "outputs": [
    {
     "data": {
      "text/plain": [
       "(100, 100)"
      ]
     },
     "execution_count": 3,
     "metadata": {},
     "output_type": "execute_result"
    }
   ],
   "source": [
    "X.shape"
   ]
  },
  {
   "cell_type": "code",
   "execution_count": 4,
   "id": "804c39ad-d292-4f04-85c1-d8f55b18ca6c",
   "metadata": {},
   "outputs": [],
   "source": [
    "# define feature selection\n",
    "fs = SelectKBest(score_func=f_regression, k=10)"
   ]
  },
  {
   "cell_type": "code",
   "execution_count": 5,
   "id": "881d3a69-ab88-4a33-8f69-bada98d28f8f",
   "metadata": {},
   "outputs": [
    {
     "name": "stdout",
     "output_type": "stream",
     "text": [
      "(100, 10)\n"
     ]
    }
   ],
   "source": [
    "# apply feature selection\n",
    "X_selected = fs.fit_transform(X, y)\n",
    "print(X_selected.shape)"
   ]
  },
  {
   "cell_type": "code",
   "execution_count": null,
   "id": "adjacent-private",
   "metadata": {},
   "outputs": [],
   "source": []
  }
 ],
 "metadata": {
  "kernelspec": {
   "display_name": "Python Multi",
   "language": "python",
   "name": "multi"
  },
  "language_info": {
   "codemirror_mode": {
    "name": "ipython",
    "version": 3
   },
   "file_extension": ".py",
   "mimetype": "text/x-python",
   "name": "python",
   "nbconvert_exporter": "python",
   "pygments_lexer": "ipython3",
   "version": "3.9.4"
  }
 },
 "nbformat": 4,
 "nbformat_minor": 5
}
