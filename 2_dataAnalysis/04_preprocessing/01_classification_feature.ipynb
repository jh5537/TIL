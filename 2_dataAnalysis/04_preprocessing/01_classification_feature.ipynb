{
 "cells": [
  {
   "cell_type": "markdown",
   "id": "basic-nature",
   "metadata": {},
   "source": [
    "### Classification Feature Selection:\n",
    "(Numerical Input, Categorical Output)"
   ]
  },
  {
   "cell_type": "markdown",
   "id": "recorded-gregory",
   "metadata": {},
   "source": [
    "Feature selection is performed using ANOVA F measure via the f_classif() function."
   ]
  },
  {
   "cell_type": "code",
   "execution_count": 1,
   "id": "2ede458e-e163-4f40-a4ba-b927914dbcba",
   "metadata": {},
   "outputs": [],
   "source": [
    "# ANOVA feature selection for numeric input and categorical output\n",
    "from sklearn.datasets import make_classification\n",
    "from sklearn.feature_selection import SelectKBest\n",
    "from sklearn.feature_selection import f_classif"
   ]
  },
  {
   "cell_type": "code",
   "execution_count": 2,
   "id": "ec276c78-07b9-4b60-9c7d-050e4dc232f5",
   "metadata": {},
   "outputs": [],
   "source": [
    "# generate dataset\n",
    "X, y = make_classification(n_samples=100, n_features=20, n_informative=2)"
   ]
  },
  {
   "cell_type": "code",
   "execution_count": 3,
   "id": "f87f223f-1811-4ad1-86b5-b096dd7b1686",
   "metadata": {},
   "outputs": [],
   "source": [
    "# define feature selection\n",
    "fs = SelectKBest(score_func=f_classif, k=2)"
   ]
  },
  {
   "cell_type": "code",
   "execution_count": 4,
   "id": "687c2e82-206b-427a-bd48-95e1009a97db",
   "metadata": {},
   "outputs": [
    {
     "name": "stdout",
     "output_type": "stream",
     "text": [
      "(100, 2)\n"
     ]
    }
   ],
   "source": [
    "# apply feature selection\n",
    "X_selected = fs.fit_transform(X, y)\n",
    "print(X_selected.shape)"
   ]
  },
  {
   "cell_type": "code",
   "execution_count": null,
   "id": "angry-angola",
   "metadata": {},
   "outputs": [],
   "source": []
  }
 ],
 "metadata": {
  "kernelspec": {
   "display_name": "Python Multi",
   "language": "python",
   "name": "multi"
  },
  "language_info": {
   "codemirror_mode": {
    "name": "ipython",
    "version": 3
   },
   "file_extension": ".py",
   "mimetype": "text/x-python",
   "name": "python",
   "nbconvert_exporter": "python",
   "pygments_lexer": "ipython3",
   "version": "3.9.4"
  }
 },
 "nbformat": 4,
 "nbformat_minor": 5
}
